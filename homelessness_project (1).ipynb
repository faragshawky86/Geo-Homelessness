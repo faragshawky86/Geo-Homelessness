{
 "cells": [
  {
   "cell_type": "code",
   "execution_count": 170,
   "metadata": {},
   "outputs": [],
   "source": [
    "import requests\n",
    "url = \"https://www.hudexchange.info/resources/documents/2007-2018-PIT-Counts-by-State.xlsx\"\n",
    "resp = requests.get(url)\n",
    "\n",
    "filename = 'data.xlsx'\n",
    "\n",
    "output = open(filename, 'wb')\n",
    "output.write(resp.content)\n",
    "output.close()"
   ]
  },
  {
   "cell_type": "code",
   "execution_count": 171,
   "metadata": {},
   "outputs": [],
   "source": [
    "import warnings\n",
    "warnings.filterwarnings(\"ignore\")"
   ]
  },
  {
   "cell_type": "code",
   "execution_count": 172,
   "metadata": {},
   "outputs": [],
   "source": [
    "import pandas as pd\n",
    "data = []\n",
    "\n",
    "for i in range(0,13):\n",
    "    df = pd.read_excel(filename,sheet_name=i)\n",
    "    data.append(df)"
   ]
  },
  {
   "cell_type": "code",
   "execution_count": 173,
   "metadata": {},
   "outputs": [],
   "source": [
    "df = data[0][[\"state\"]]"
   ]
  },
  {
   "cell_type": "code",
   "execution_count": 174,
   "metadata": {},
   "outputs": [],
   "source": [
    "#gets the second column from 2018 data on homeless totals\n",
    "n = 2018\n",
    "for i in range(1,len(data)):\n",
    "    df[str(n)] = (list(data[i].iloc[:,2]))\n",
    "    n-=1"
   ]
  },
  {
   "cell_type": "code",
   "execution_count": 175,
   "metadata": {},
   "outputs": [],
   "source": [
    "# Drop stuff like Guam, Virgin Islands, PR, and Total\n",
    "df = df.drop([7,11,26,41,49,55], axis=0)\n",
    "df.to_csv(\"annual_homelessness.csv\")"
   ]
  },
  {
   "cell_type": "code",
   "execution_count": 176,
   "metadata": {},
   "outputs": [
    {
     "data": {
      "text/plain": [
       "'file:///Users/PaulAlbilal/Desktop/bootcamp2/RUTJER201901DATA3/d3-cloropleth-map.html'"
      ]
     },
     "execution_count": 176,
     "metadata": {},
     "output_type": "execute_result"
    }
   ],
   "source": [
    "import plotly.plotly as py\n",
    "import plotly.graph_objs as go\n",
    "from plotly.offline import download_plotlyjs, init_notebook_mode, plot, iplot\n",
    "import pandas as pd\n",
    "from IPython.display import IFrame\n",
    "\n",
    "\n",
    "for col in df.columns:\n",
    "    df[col] = df[col].astype(str)\n",
    "\n",
    "df['text'] = df['state']\n",
    "\n",
    "data = [go.Choropleth(\n",
    "    colorscale = scl,\n",
    "    autocolorscale = True,\n",
    "    locations = df['state'],\n",
    "    z = df['2018'].astype(float),\n",
    "    locationmode = 'USA-states',\n",
    "    text = df['text'],\n",
    "    marker = go.choropleth.Marker(\n",
    "        line = go.choropleth.marker.Line(\n",
    "            color = 'rgb(255,255,255)',\n",
    "            width = 2\n",
    "        )),\n",
    "    colorbar = go.choropleth.ColorBar(\n",
    "        title = \"title goes here\")\n",
    ")]\n",
    "\n",
    "layout = go.Layout(\n",
    "    title = go.layout.Title(\n",
    "        text = 'Homelessness by State<br>(Hover for breakdown)'\n",
    "    ),\n",
    "    geo = go.layout.Geo(\n",
    "        scope = 'usa',\n",
    "        projection = go.layout.geo.Projection(type = 'albers usa'),\n",
    "        showlakes = True,\n",
    "        lakecolor = 'rgb(255, 255, 255)'),\n",
    ")\n",
    "\n",
    "fig = go.Figure(data = data, layout = layout)\n",
    "plot(fig, filename = 'd3-cloropleth-map')"
   ]
  },
  {
   "cell_type": "code",
   "execution_count": 177,
   "metadata": {},
   "outputs": [],
   "source": [
    "def heatmap(year):\n",
    "    for col in df.columns:\n",
    "        df[col] = df[col].astype(str)\n",
    "\n",
    "    df['text'] = df['state']\n",
    "\n",
    "    data = [go.Choropleth(\n",
    "        colorscale = scl,\n",
    "        autocolorscale = True,\n",
    "        locations = df['state'],\n",
    "        z = df[str(year)].astype(float),\n",
    "        locationmode = 'USA-states',\n",
    "        text = df['text'],\n",
    "        marker = go.choropleth.Marker(\n",
    "            line = go.choropleth.marker.Line(\n",
    "                color = 'rgb(255,255,255)',\n",
    "                width = 2\n",
    "            )),\n",
    "        colorbar = go.choropleth.ColorBar(\n",
    "            title = \"title goes here\")\n",
    "    )]\n",
    "\n",
    "    layout = go.Layout(\n",
    "        title = go.layout.Title(\n",
    "            text = str(year)+' Homelessness by State<br>(Hover for breakdown)'\n",
    "        ),\n",
    "        geo = go.layout.Geo(\n",
    "            scope = 'usa',\n",
    "            projection = go.layout.geo.Projection(type = 'albers usa'),\n",
    "            showlakes = True,\n",
    "            lakecolor = 'rgb(255, 255, 255)'),\n",
    "    )\n",
    "\n",
    "    fig = go.Figure(data = data, layout = layout)\n",
    "    plot(fig, filename = str(year)+'-d3-cloropleth-map.html')\n",
    "    IFrame(str(year)+'-d3-cloropleth-map.html', width=700, height=350)"
   ]
  },
  {
   "cell_type": "code",
   "execution_count": 178,
   "metadata": {},
   "outputs": [],
   "source": [
    "for i in range(2007,2019):\n",
    "    heatmap(str(i))"
   ]
  }
 ],
 "metadata": {
  "kernelspec": {
   "display_name": "Python 3",
   "language": "python",
   "name": "python3"
  },
  "language_info": {
   "codemirror_mode": {
    "name": "ipython",
    "version": 3
   },
   "file_extension": ".py",
   "mimetype": "text/x-python",
   "name": "python",
   "nbconvert_exporter": "python",
   "pygments_lexer": "ipython3",
   "version": "3.6.8"
  }
 },
 "nbformat": 4,
 "nbformat_minor": 2
}
